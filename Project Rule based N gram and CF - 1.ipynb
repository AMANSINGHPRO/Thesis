{
 "cells": [
  {
   "cell_type": "markdown",
   "metadata": {},
   "source": [
    "# Ngram POS Tagging and evaluation\n",
    "## Import library and corpus"
   ]
  },
  {
   "cell_type": "code",
   "execution_count": 1,
   "metadata": {
    "collapsed": true
   },
   "outputs": [],
   "source": [
    "import nltk                                                                 #import library"
   ]
  },
  {
   "cell_type": "code",
   "execution_count": 2,
   "metadata": {
    "collapsed": true
   },
   "outputs": [],
   "source": [
    "from nltk.corpus import brown                                               #import corpus"
   ]
  },
  {
   "cell_type": "markdown",
   "metadata": {},
   "source": [
    "## Editorial"
   ]
  },
  {
   "cell_type": "code",
   "execution_count": 3,
   "metadata": {
    "collapsed": true
   },
   "outputs": [],
   "source": [
    "editorial_tagged_sents = brown.tagged_sents(categories='editorial')         #set editorial tagged sentences"
   ]
  },
  {
   "cell_type": "code",
   "execution_count": 4,
   "metadata": {
    "collapsed": true
   },
   "outputs": [],
   "source": [
    "editorial_sents = brown.sents(categories='editorial')                       #set editorial sentences"
   ]
  },
  {
   "cell_type": "code",
   "execution_count": 5,
   "metadata": {
    "collapsed": true
   },
   "outputs": [],
   "source": [
    "editorial_unigram_tagger = nltk.UnigramTagger(editorial_tagged_sents)       #set tagger"
   ]
  },
  {
   "cell_type": "code",
   "execution_count": 6,
   "metadata": {
    "collapsed": false
   },
   "outputs": [
    {
     "data": {
      "text/plain": [
       "[('Southfield', 'NP'),\n",
       " ('schools', 'NNS'),\n",
       " ('furnish', 'VB'),\n",
       " ('an', 'AT'),\n",
       " ('old', 'JJ'),\n",
       " ('45-passenger', 'JJ'),\n",
       " ('bus', 'NN'),\n",
       " ('(', '('),\n",
       " ('the', 'AT'),\n",
       " ('heater', 'NN'),\n",
       " ('in', 'IN'),\n",
       " ('which', 'WDT'),\n",
       " ('needs', 'VBZ'),\n",
       " ('repair', 'VB'),\n",
       " ('since', 'IN'),\n",
       " ('some', 'DTI'),\n",
       " ('of', 'IN'),\n",
       " ('the', 'AT'),\n",
       " ('children', 'NNS'),\n",
       " ('ride', 'VB'),\n",
       " ('a', 'AT'),\n",
       " ('long', 'JJ'),\n",
       " ('distance', 'NN'),\n",
       " ('and', 'CC'),\n",
       " ('need', 'VB'),\n",
       " ('the', 'AT'),\n",
       " ('heat', 'NN'),\n",
       " (')', ')'),\n",
       " ('.', '.')]"
      ]
     },
     "execution_count": 6,
     "metadata": {},
     "output_type": "execute_result"
    }
   ],
   "source": [
    "editorial_unigram_tagger.tag(editorial_sents[2006])                         #tag sentence #2006"
   ]
  },
  {
   "cell_type": "code",
   "execution_count": 7,
   "metadata": {
    "collapsed": false
   },
   "outputs": [
    {
     "data": {
      "text/plain": [
       "0.9314654892539446"
      ]
     },
     "execution_count": 7,
     "metadata": {},
     "output_type": "execute_result"
    }
   ],
   "source": [
    "editorial_unigram_tagger.evaluate(editorial_tagged_sents)                    #evaluate the tagged sents"
   ]
  },
  {
   "cell_type": "code",
   "execution_count": 8,
   "metadata": {
    "collapsed": true
   },
   "outputs": [],
   "source": [
    "size = int(len(editorial_tagged_sents) * 0.8)                                #set the data size = 80%"
   ]
  },
  {
   "cell_type": "code",
   "execution_count": 9,
   "metadata": {
    "collapsed": false
   },
   "outputs": [
    {
     "data": {
      "text/plain": [
       "2397"
      ]
     },
     "execution_count": 9,
     "metadata": {},
     "output_type": "execute_result"
    }
   ],
   "source": [
    "size                                                                         # #of data points"
   ]
  },
  {
   "cell_type": "code",
   "execution_count": 10,
   "metadata": {
    "collapsed": true
   },
   "outputs": [],
   "source": [
    "editorial_train_sents = editorial_tagged_sents[:size]                        #divide the dataset into training set"
   ]
  },
  {
   "cell_type": "code",
   "execution_count": 11,
   "metadata": {
    "collapsed": true
   },
   "outputs": [],
   "source": [
    "editorial_test_sents = editorial_tagged_sents[size:]                         #divide the dataset into test set"
   ]
  },
  {
   "cell_type": "code",
   "execution_count": 12,
   "metadata": {
    "collapsed": true
   },
   "outputs": [],
   "source": [
    "editorial_unigram_tagger = nltk.UnigramTagger(editorial_train_sents)         #set unigram tagger"
   ]
  },
  {
   "cell_type": "code",
   "execution_count": 13,
   "metadata": {
    "collapsed": false
   },
   "outputs": [
    {
     "data": {
      "text/plain": [
       "0.7849585141204233"
      ]
     },
     "execution_count": 13,
     "metadata": {},
     "output_type": "execute_result"
    }
   ],
   "source": [
    "editorial_unigram_tagger.evaluate(editorial_test_sents)                      #evaluate unigram performance"
   ]
  },
  {
   "cell_type": "code",
   "execution_count": 14,
   "metadata": {
    "collapsed": true
   },
   "outputs": [],
   "source": [
    "editorial_bigram_tagger = nltk.BigramTagger(editorial_train_sents)           #set bigram tagger"
   ]
  },
  {
   "cell_type": "code",
   "execution_count": 15,
   "metadata": {
    "collapsed": false
   },
   "outputs": [
    {
     "data": {
      "text/plain": [
       "[('Southfield', 'NP'),\n",
       " ('schools', 'NNS'),\n",
       " ('furnish', 'VB'),\n",
       " ('an', 'AT'),\n",
       " ('old', 'JJ'),\n",
       " ('45-passenger', 'JJ'),\n",
       " ('bus', 'NN'),\n",
       " ('(', '('),\n",
       " ('the', 'AT'),\n",
       " ('heater', 'NN'),\n",
       " ('in', 'IN'),\n",
       " ('which', 'WDT'),\n",
       " ('needs', 'VBZ'),\n",
       " ('repair', 'NN'),\n",
       " ('since', 'IN'),\n",
       " ('some', 'DTI'),\n",
       " ('of', 'IN'),\n",
       " ('the', 'AT'),\n",
       " ('children', 'NNS'),\n",
       " ('ride', 'VB'),\n",
       " ('a', 'AT'),\n",
       " ('long', 'JJ'),\n",
       " ('distance', 'NN'),\n",
       " ('and', 'CC'),\n",
       " ('need', 'VB'),\n",
       " ('the', 'AT'),\n",
       " ('heat', 'NN'),\n",
       " (')', ')'),\n",
       " ('.', '.')]"
      ]
     },
     "execution_count": 15,
     "metadata": {},
     "output_type": "execute_result"
    }
   ],
   "source": [
    "editorial_bigram_tagger.tag(editorial_sents[2006])                           #tag sentence #2006"
   ]
  },
  {
   "cell_type": "code",
   "execution_count": 16,
   "metadata": {
    "collapsed": false
   },
   "outputs": [],
   "source": [
    "editorial_unseen_sent = editorial_sents[1222]                                 #set unseen sentence #1222"
   ]
  },
  {
   "cell_type": "code",
   "execution_count": 17,
   "metadata": {
    "collapsed": false
   },
   "outputs": [
    {
     "data": {
      "text/plain": [
       "[('No', 'AT'),\n",
       " ('warden', 'NN'),\n",
       " ('or', 'CC'),\n",
       " ('guard', 'VB'),\n",
       " ('to', 'TO'),\n",
       " ('touch', 'VB'),\n",
       " ('lock', 'NN'),\n",
       " (',', ','),\n",
       " ('key', 'NN'),\n",
       " ('or', 'CC'),\n",
       " ('doorknob', 'NN'),\n",
       " ('except', 'IN'),\n",
       " ('when', 'WRB'),\n",
       " ('accompanied', 'VBN'),\n",
       " ('by', 'IN'),\n",
       " ('a', 'AT'),\n",
       " (\"prisoners'\", 'NNS$'),\n",
       " ('committee', 'NN'),\n",
       " ('with', 'IN'),\n",
       " ('powers', 'NNS'),\n",
       " ('of', 'IN'),\n",
       " ('veto', 'NN'),\n",
       " ('.', '.')]"
      ]
     },
     "execution_count": 17,
     "metadata": {},
     "output_type": "execute_result"
    }
   ],
   "source": [
    "editorial_bigram_tagger.tag(editorial_unseen_sent)                            #tag sentence unseen sent"
   ]
  },
  {
   "cell_type": "code",
   "execution_count": 18,
   "metadata": {
    "collapsed": false
   },
   "outputs": [
    {
     "data": {
      "text/plain": [
       "0.1020019791428789"
      ]
     },
     "execution_count": 18,
     "metadata": {},
     "output_type": "execute_result"
    }
   ],
   "source": [
    "editorial_bigram_tagger.evaluate(editorial_test_sents)                       #evaluate bigram tagger"
   ]
  },
  {
   "cell_type": "code",
   "execution_count": 19,
   "metadata": {
    "collapsed": true
   },
   "outputs": [],
   "source": [
    "t0 = nltk.DefaultTagger('NN')                                                #set default tagger to tag tokens as Noun"
   ]
  },
  {
   "cell_type": "code",
   "execution_count": 21,
   "metadata": {
    "collapsed": false
   },
   "outputs": [],
   "source": [
    "t1 = nltk.UnigramTagger(editorial_train_sents, backoff=t0)                   #set unigram tagger and put first backoff"
   ]
  },
  {
   "cell_type": "code",
   "execution_count": 23,
   "metadata": {
    "collapsed": false
   },
   "outputs": [],
   "source": [
    "t2 = nltk.BigramTagger(editorial_train_sents, backoff=t1)                    #set bigram tagger and put second backoff"
   ]
  },
  {
   "cell_type": "code",
   "execution_count": 24,
   "metadata": {
    "collapsed": false
   },
   "outputs": [
    {
     "data": {
      "text/plain": [
       "0.8216487782598767"
      ]
     },
     "execution_count": 24,
     "metadata": {},
     "output_type": "execute_result"
    }
   ],
   "source": [
    "t2.evaluate(editorial_test_sents)                                            #evaluate the N-Gram tagger"
   ]
  },
  {
   "cell_type": "markdown",
   "metadata": {},
   "source": [
    "### Confusion Matrix"
   ]
  },
  {
   "cell_type": "code",
   "execution_count": 25,
   "metadata": {
    "collapsed": true
   },
   "outputs": [],
   "source": [
    "def tag_list(editorial_tagged_sents):\n",
    "...     return [tag for sent in editorial_tagged_sents for (word, tag) in sent] #function tag_list"
   ]
  },
  {
   "cell_type": "code",
   "execution_count": 26,
   "metadata": {
    "collapsed": true
   },
   "outputs": [],
   "source": [
    "def apply_tagger(tagger, corpus):\n",
    "...     return [tagger.tag(nltk.tag.untag(sent)) for sent in corpus]         #function apply_tagger"
   ]
  },
  {
   "cell_type": "code",
   "execution_count": 27,
   "metadata": {
    "collapsed": false
   },
   "outputs": [],
   "source": [
    "gold = tag_list(brown.tagged_sents(categories='editorial'))                  #gold corpus"
   ]
  },
  {
   "cell_type": "code",
   "execution_count": 28,
   "metadata": {
    "collapsed": false
   },
   "outputs": [],
   "source": [
    "test = tag_list(apply_tagger(t2, brown.tagged_sents(categories='editorial')))#test the tag_list"
   ]
  },
  {
   "cell_type": "code",
   "execution_count": 29,
   "metadata": {
    "collapsed": true
   },
   "outputs": [],
   "source": [
    "cm = nltk.ConfusionMatrix(gold, test)                                        #generate confusion matrix"
   ]
  },
  {
   "cell_type": "code",
   "execution_count": 30,
   "metadata": {
    "collapsed": false
   },
   "outputs": [
    {
     "name": "stdout",
     "output_type": "stream",
     "text": [
      "      |                                                                                                 N        |\n",
      "      |                                                                                                 N        |\n",
      "      |                                         N                                         V             -        |\n",
      "      |      N      I      A      J             N             V      N      C      R      B      C      T      T |\n",
      "      |      N      N      T      J      .      S      ,      B      P      C      B      N      S      L      O |\n",
      "------+----------------------------------------------------------------------------------------------------------+\n",
      "   NN | <12.3%>     .      .   0.1%      .      .      .   0.1%   0.0%      .   0.0%   0.0%      .   0.0%      . |\n",
      "   IN |   0.0%  <9.1%>     .      .      .      .      .      .      .   0.0%   0.0%      .   0.0%      .   0.8% |\n",
      "   AT |      .      .  <8.6%>     .      .      .      .      .      .      .   0.0%      .      .      .      . |\n",
      "   JJ |   0.5%      .      .  <5.3%>     .      .      .   0.0%   0.0%      .   0.0%      .   0.0%      .      . |\n",
      "    . |      .      .      .      .  <4.8%>     .      .      .      .      .      .      .      .      .      . |\n",
      "  NNS |   0.3%   0.0%      .      .      .  <4.4%>     .      .      .      .      .      .      .      .      . |\n",
      "    , |      .      .      .      .      .      .  <4.4%>     .      .      .      .      .      .      .      . |\n",
      "   VB |   0.2%      .      .   0.0%      .      .      .  <3.3%>     .      .      .   0.0%      .      .      . |\n",
      "   NP |   0.4%      .      .   0.0%      .      .      .      .  <2.6%>     .      .      .      .   0.0%      . |\n",
      "   CC |      .      .      .      .      .      .      .      .      .  <3.0%>  0.0%      .      .      .      . |\n",
      "   RB |   0.1%   0.0%   0.0%   0.0%      .      .      .      .      .   0.0%  <2.6%>     .   0.0%      .      . |\n",
      "  VBN |   0.1%      .      .      .      .      .      .   0.0%      .      .      .  <2.2%>     .      .      . |\n",
      "   CS |   0.0%   0.1%      .      .      .      .      .   0.0%      .      .   0.0%      .  <1.8%>     .      . |\n",
      "NN-TL |   0.2%      .      .      .      .      .      .      .   0.0%      .      .      .      .  <1.7%>     . |\n",
      "   TO |      .   0.1%      .      .      .      .      .      .      .      .      .      .      .      .  <1.5%>|\n",
      "------+----------------------------------------------------------------------------------------------------------+\n",
      "(row = reference; col = test)\n",
      "\n"
     ]
    }
   ],
   "source": [
    "print(cm.pretty_format(sort_by_count=True, show_percents=True, truncate=15)) #print the confusion matrix"
   ]
  },
  {
   "cell_type": "markdown",
   "metadata": {},
   "source": [
    "## 2. Reviews"
   ]
  },
  {
   "cell_type": "code",
   "execution_count": 31,
   "metadata": {
    "collapsed": true
   },
   "outputs": [],
   "source": [
    "reviews_tagged_sents = brown.tagged_sents(categories='reviews')               #set reviews tagged sentences"
   ]
  },
  {
   "cell_type": "code",
   "execution_count": 32,
   "metadata": {
    "collapsed": true
   },
   "outputs": [],
   "source": [
    "reviews_sents = brown.sents(categories='reviews')                             #set reviews sentences"
   ]
  },
  {
   "cell_type": "code",
   "execution_count": 33,
   "metadata": {
    "collapsed": true
   },
   "outputs": [],
   "source": [
    "reviews_unigram_tagger = nltk.UnigramTagger(reviews_tagged_sents)             #set tagger"
   ]
  },
  {
   "cell_type": "code",
   "execution_count": 35,
   "metadata": {
    "collapsed": false
   },
   "outputs": [
    {
     "data": {
      "text/plain": [
       "[('And', 'CC'),\n",
       " ('Django', 'NP'),\n",
       " ('owed', 'VBD'),\n",
       " ('much', 'AP'),\n",
       " ('to', 'TO'),\n",
       " ('Louis', 'NP'),\n",
       " ('Armstrong', 'NP'),\n",
       " ('.', '.')]"
      ]
     },
     "execution_count": 35,
     "metadata": {},
     "output_type": "execute_result"
    }
   ],
   "source": [
    "reviews_unigram_tagger.tag(reviews_sents[1006])                               #tag sentence #1006"
   ]
  },
  {
   "cell_type": "code",
   "execution_count": 36,
   "metadata": {
    "collapsed": false
   },
   "outputs": [
    {
     "data": {
      "text/plain": [
       "0.9425363600628931"
      ]
     },
     "execution_count": 36,
     "metadata": {},
     "output_type": "execute_result"
    }
   ],
   "source": [
    "reviews_unigram_tagger.evaluate(reviews_tagged_sents)                         #evaluate the tagged sents"
   ]
  },
  {
   "cell_type": "code",
   "execution_count": 37,
   "metadata": {
    "collapsed": true
   },
   "outputs": [],
   "source": [
    "size = int(len(reviews_tagged_sents) * 0.8)                                   #set the data size = 80%"
   ]
  },
  {
   "cell_type": "code",
   "execution_count": 38,
   "metadata": {
    "collapsed": false
   },
   "outputs": [
    {
     "data": {
      "text/plain": [
       "1400"
      ]
     },
     "execution_count": 38,
     "metadata": {},
     "output_type": "execute_result"
    }
   ],
   "source": [
    "size                                                                          # #of data points"
   ]
  },
  {
   "cell_type": "code",
   "execution_count": 39,
   "metadata": {
    "collapsed": true
   },
   "outputs": [],
   "source": [
    "reviews_train_sents = reviews_tagged_sents[:size]                             #divide the dataset into training set"
   ]
  },
  {
   "cell_type": "code",
   "execution_count": 40,
   "metadata": {
    "collapsed": true
   },
   "outputs": [],
   "source": [
    "reviews_test_sents = reviews_tagged_sents[size:]                              #divide the dataset into test set"
   ]
  },
  {
   "cell_type": "code",
   "execution_count": 41,
   "metadata": {
    "collapsed": true
   },
   "outputs": [],
   "source": [
    "reviews_unigram_tagger = nltk.UnigramTagger(reviews_train_sents)              #set unigram tagger"
   ]
  },
  {
   "cell_type": "code",
   "execution_count": 42,
   "metadata": {
    "collapsed": false
   },
   "outputs": [
    {
     "data": {
      "text/plain": [
       "0.7022086824067022"
      ]
     },
     "execution_count": 42,
     "metadata": {},
     "output_type": "execute_result"
    }
   ],
   "source": [
    "reviews_unigram_tagger.evaluate(reviews_test_sents)                           #evaluate unigram performance"
   ]
  },
  {
   "cell_type": "code",
   "execution_count": 43,
   "metadata": {
    "collapsed": true
   },
   "outputs": [],
   "source": [
    "reviews_bigram_tagger = nltk.BigramTagger(reviews_train_sents)                #set bigram tagger"
   ]
  },
  {
   "cell_type": "code",
   "execution_count": 44,
   "metadata": {
    "collapsed": false
   },
   "outputs": [
    {
     "data": {
      "text/plain": [
       "[('And', 'CC'),\n",
       " ('Django', 'NP'),\n",
       " ('owed', 'VBD'),\n",
       " ('much', 'AP'),\n",
       " ('to', 'TO'),\n",
       " ('Louis', None),\n",
       " ('Armstrong', None),\n",
       " ('.', None)]"
      ]
     },
     "execution_count": 44,
     "metadata": {},
     "output_type": "execute_result"
    }
   ],
   "source": [
    "reviews_bigram_tagger.tag(reviews_sents[1006])                                #tag sentence #1006"
   ]
  },
  {
   "cell_type": "code",
   "execution_count": 45,
   "metadata": {
    "collapsed": false
   },
   "outputs": [],
   "source": [
    "reviews_unseen_sent = reviews_sents[1203]                                     #set unseen sentence #1203"
   ]
  },
  {
   "cell_type": "code",
   "execution_count": 46,
   "metadata": {
    "collapsed": false
   },
   "outputs": [
    {
     "data": {
      "text/plain": [
       "[('The', 'AT'),\n",
       " ('fact', 'NN'),\n",
       " ('that', 'WPS'),\n",
       " ('Sloan', None),\n",
       " ('was', None),\n",
       " ('an', None),\n",
       " ('extrovert', None),\n",
       " (',', None),\n",
       " ('concerned', None),\n",
       " ('primarily', None),\n",
       " ('with', None),\n",
       " ('what', None),\n",
       " ('he', None),\n",
       " ('saw', None),\n",
       " (',', None),\n",
       " ('adds', None),\n",
       " ('greatly', None),\n",
       " ('to', None),\n",
       " ('the', None),\n",
       " ('value', None),\n",
       " ('of', None),\n",
       " ('his', None),\n",
       " ('art', None),\n",
       " ('as', None),\n",
       " ('a', None),\n",
       " ('human', None),\n",
       " ('chronicle', None),\n",
       " ('.', None)]"
      ]
     },
     "execution_count": 46,
     "metadata": {},
     "output_type": "execute_result"
    }
   ],
   "source": [
    "reviews_bigram_tagger.tag(reviews_unseen_sent)                                #tag sentence unseen sent"
   ]
  },
  {
   "cell_type": "code",
   "execution_count": 47,
   "metadata": {
    "collapsed": false
   },
   "outputs": [
    {
     "data": {
      "text/plain": [
       "0.05991368367605991"
      ]
     },
     "execution_count": 47,
     "metadata": {},
     "output_type": "execute_result"
    }
   ],
   "source": [
    "reviews_bigram_tagger.evaluate(reviews_test_sents)                            #evaluate bigram tagger"
   ]
  },
  {
   "cell_type": "code",
   "execution_count": 48,
   "metadata": {
    "collapsed": true
   },
   "outputs": [],
   "source": [
    "t0 = nltk.DefaultTagger('NN')                                                 #set default tagger to tag tokens as Noun"
   ]
  },
  {
   "cell_type": "code",
   "execution_count": 49,
   "metadata": {
    "collapsed": true
   },
   "outputs": [],
   "source": [
    "t1 = nltk.UnigramTagger(reviews_train_sents, backoff=t0)                      #set unigram tagger and put first backoff"
   ]
  },
  {
   "cell_type": "code",
   "execution_count": 50,
   "metadata": {
    "collapsed": true
   },
   "outputs": [],
   "source": [
    "t2 = nltk.BigramTagger(reviews_train_sents, backoff=t1)                       #set bigram tagger and put second backoff"
   ]
  },
  {
   "cell_type": "code",
   "execution_count": 51,
   "metadata": {
    "collapsed": false
   },
   "outputs": [
    {
     "data": {
      "text/plain": [
       "0.7627570449352628"
      ]
     },
     "execution_count": 51,
     "metadata": {},
     "output_type": "execute_result"
    }
   ],
   "source": [
    "t2.evaluate(reviews_test_sents)                                               #evaluate the N-Gram tagger"
   ]
  },
  {
   "cell_type": "markdown",
   "metadata": {},
   "source": [
    "### Confusion Matrix"
   ]
  },
  {
   "cell_type": "code",
   "execution_count": 52,
   "metadata": {
    "collapsed": true
   },
   "outputs": [],
   "source": [
    "def tag_list(reviews_tagged_sents):\n",
    "...     return [tag for sent in reviews_tagged_sents for (word, tag) in sent] #function tag_list"
   ]
  },
  {
   "cell_type": "code",
   "execution_count": 53,
   "metadata": {
    "collapsed": true
   },
   "outputs": [],
   "source": [
    "def apply_tagger(tagger, corpus):\n",
    "...     return [tagger.tag(nltk.tag.untag(sent)) for sent in corpus]          #function apply_tagger"
   ]
  },
  {
   "cell_type": "code",
   "execution_count": 54,
   "metadata": {
    "collapsed": true
   },
   "outputs": [],
   "source": [
    "gold = tag_list(brown.tagged_sents(categories='reviews'))                     #gold corpus"
   ]
  },
  {
   "cell_type": "code",
   "execution_count": 55,
   "metadata": {
    "collapsed": true
   },
   "outputs": [],
   "source": [
    "test = tag_list(apply_tagger(t2, brown.tagged_sents(categories='reviews')))   #test the tag_list"
   ]
  },
  {
   "cell_type": "code",
   "execution_count": 56,
   "metadata": {
    "collapsed": true
   },
   "outputs": [],
   "source": [
    "cm = nltk.ConfusionMatrix(gold, test)                                         #generate confusion matrix"
   ]
  },
  {
   "cell_type": "code",
   "execution_count": 57,
   "metadata": {
    "collapsed": false
   },
   "outputs": [
    {
     "name": "stdout",
     "output_type": "stream",
     "text": [
      "      |                                                                                                 N        |\n",
      "      |                                                                                                 N        |\n",
      "      |                                                N                           V                    -      V |\n",
      "      |      N      I      A      J             N      N             C      R      B      V      C      T      B |\n",
      "      |      N      N      T      J      ,      P      S      .      C      B      N      B      S      L      Z |\n",
      "------+----------------------------------------------------------------------------------------------------------+\n",
      "   NN | <12.2%>     .      .   0.1%      .   0.0%   0.0%      .      .      .      .   0.0%      .   0.0%      . |\n",
      "   IN |   0.0%  <9.4%>     .      .      .      .      .      .      .   0.0%      .      .   0.0%      .      . |\n",
      "   AT |      .      .  <8.4%>     .      .      .      .      .      .      .      .      .      .      .      . |\n",
      "   JJ |   0.5%      .      .  <6.2%>     .   0.0%      .      .      .   0.0%      .   0.0%      .      .      . |\n",
      "    , |      .      .      .      .  <5.7%>     .      .      .      .      .      .      .      .      .      . |\n",
      "   NP |   0.6%      .      .   0.0%      .  <4.2%>     .      .      .      .      .      .      .   0.0%      . |\n",
      "  NNS |   0.6%      .      .      .      .      .  <4.0%>     .      .      .      .      .      .      .   0.0% |\n",
      "    . |      .      .      .      .      .      .      .  <4.5%>     .      .      .      .      .      .      . |\n",
      "   CC |      .      .      .      .      .      .      .      .  <3.5%>     .      .      .      .      .      . |\n",
      "   RB |   0.1%   0.0%      .   0.0%      .      .      .      .   0.0%  <2.8%>     .      .   0.0%      .      . |\n",
      "  VBN |   0.2%      .      .   0.0%      .      .      .      .      .      .  <1.9%>  0.0%      .      .      . |\n",
      "   VB |   0.2%      .      .   0.0%      .      .      .      .      .   0.0%   0.0%  <1.9%>  0.0%      .      . |\n",
      "   CS |   0.0%   0.1%      .      .      .      .      .      .      .   0.0%      .      .  <1.4%>     .      . |\n",
      "NN-TL |   0.2%      .   0.0%      .      .   0.0%      .      .      .      .      .      .      .  <1.4%>     . |\n",
      "  VBZ |   0.1%      .      .      .      .      .   0.0%      .      .      .      .      .      .      .  <1.1%>|\n",
      "------+----------------------------------------------------------------------------------------------------------+\n",
      "(row = reference; col = test)\n",
      "\n"
     ]
    }
   ],
   "source": [
    "print(cm.pretty_format(sort_by_count=True, show_percents=True, truncate=15))  #print the confusion matrix"
   ]
  },
  {
   "cell_type": "markdown",
   "metadata": {},
   "source": [
    "## 3. Government"
   ]
  },
  {
   "cell_type": "code",
   "execution_count": 61,
   "metadata": {
    "collapsed": true
   },
   "outputs": [],
   "source": [
    "government_tagged_sents = brown.tagged_sents(categories='government')         #set government tagged sentences"
   ]
  },
  {
   "cell_type": "code",
   "execution_count": 62,
   "metadata": {
    "collapsed": true
   },
   "outputs": [],
   "source": [
    "government_sents = brown.sents(categories='government')                       #set government sentences"
   ]
  },
  {
   "cell_type": "code",
   "execution_count": 64,
   "metadata": {
    "collapsed": false
   },
   "outputs": [],
   "source": [
    "government_unigram_tagger = nltk.UnigramTagger(government_tagged_sents)       #set tagger"
   ]
  },
  {
   "cell_type": "code",
   "execution_count": 66,
   "metadata": {
    "collapsed": false
   },
   "outputs": [
    {
     "data": {
      "text/plain": [
       "[('Hunter', 'NN'),\n",
       " ('and', 'CC'),\n",
       " ('fisherman', 'NN'),\n",
       " ('visits', 'NNS'),\n",
       " ('since', 'IN'),\n",
       " ('1949', 'CD'),\n",
       " ('have', 'HV'),\n",
       " ('increased', 'VBN'),\n",
       " ('8', 'CD'),\n",
       " ('times', 'NNS'),\n",
       " ('faster', 'RBR'),\n",
       " ('than', 'CS'),\n",
       " ('the', 'AT'),\n",
       " ('nationwide', 'JJ'),\n",
       " ('sale', 'NN'),\n",
       " ('of', 'IN'),\n",
       " ('hunting', 'VBG'),\n",
       " ('and', 'CC'),\n",
       " ('fishing', 'VBG'),\n",
       " ('licenses', 'NNS'),\n",
       " ('.', '.')]"
      ]
     },
     "execution_count": 66,
     "metadata": {},
     "output_type": "execute_result"
    }
   ],
   "source": [
    "government_unigram_tagger.tag(government_sents[2006])                         #tag sentence #2006"
   ]
  },
  {
   "cell_type": "code",
   "execution_count": 67,
   "metadata": {
    "collapsed": false
   },
   "outputs": [
    {
     "data": {
      "text/plain": [
       "0.9254531711282571"
      ]
     },
     "execution_count": 67,
     "metadata": {},
     "output_type": "execute_result"
    }
   ],
   "source": [
    "government_unigram_tagger.evaluate(government_tagged_sents)                    #evaluate the tagged sents"
   ]
  },
  {
   "cell_type": "code",
   "execution_count": 68,
   "metadata": {
    "collapsed": true
   },
   "outputs": [],
   "source": [
    "size = int(len(government_tagged_sents) * 0.8)                                 #set the data size = 80%"
   ]
  },
  {
   "cell_type": "code",
   "execution_count": 69,
   "metadata": {
    "collapsed": false
   },
   "outputs": [
    {
     "data": {
      "text/plain": [
       "2425"
      ]
     },
     "execution_count": 69,
     "metadata": {},
     "output_type": "execute_result"
    }
   ],
   "source": [
    "size                                                                           # #of data points"
   ]
  },
  {
   "cell_type": "code",
   "execution_count": 70,
   "metadata": {
    "collapsed": true
   },
   "outputs": [],
   "source": [
    "government_train_sents = government_tagged_sents[:size]                        #divide the dataset into training set"
   ]
  },
  {
   "cell_type": "code",
   "execution_count": 71,
   "metadata": {
    "collapsed": true
   },
   "outputs": [],
   "source": [
    "government_test_sents = government_tagged_sents[size:]                         #divide the dataset into test set"
   ]
  },
  {
   "cell_type": "code",
   "execution_count": 72,
   "metadata": {
    "collapsed": true
   },
   "outputs": [],
   "source": [
    "government_unigram_tagger = nltk.UnigramTagger(government_train_sents)         #set unigram tagger"
   ]
  },
  {
   "cell_type": "code",
   "execution_count": 73,
   "metadata": {
    "collapsed": false
   },
   "outputs": [
    {
     "data": {
      "text/plain": [
       "0.7801597309794032"
      ]
     },
     "execution_count": 73,
     "metadata": {},
     "output_type": "execute_result"
    }
   ],
   "source": [
    "government_unigram_tagger.evaluate(government_test_sents)                      #evaluate unigram performance"
   ]
  },
  {
   "cell_type": "code",
   "execution_count": 74,
   "metadata": {
    "collapsed": true
   },
   "outputs": [],
   "source": [
    "government_bigram_tagger = nltk.BigramTagger(government_train_sents)           #set bigram tagger"
   ]
  },
  {
   "cell_type": "code",
   "execution_count": 75,
   "metadata": {
    "collapsed": false
   },
   "outputs": [
    {
     "data": {
      "text/plain": [
       "[('Hunter', 'NN'),\n",
       " ('and', 'CC'),\n",
       " ('fisherman', 'NN'),\n",
       " ('visits', 'NNS'),\n",
       " ('since', 'IN'),\n",
       " ('1949', 'CD'),\n",
       " ('have', 'HV'),\n",
       " ('increased', 'VBN'),\n",
       " ('8', 'CD'),\n",
       " ('times', 'NNS'),\n",
       " ('faster', 'RBR'),\n",
       " ('than', 'CS'),\n",
       " ('the', 'AT'),\n",
       " ('nationwide', 'JJ'),\n",
       " ('sale', 'NN'),\n",
       " ('of', 'IN'),\n",
       " ('hunting', 'VBG'),\n",
       " ('and', 'CC'),\n",
       " ('fishing', 'VBG'),\n",
       " ('licenses', 'NNS'),\n",
       " ('.', '.')]"
      ]
     },
     "execution_count": 75,
     "metadata": {},
     "output_type": "execute_result"
    }
   ],
   "source": [
    "government_bigram_tagger.tag(government_sents[2006])                           #tag sentence #2006"
   ]
  },
  {
   "cell_type": "code",
   "execution_count": 76,
   "metadata": {
    "collapsed": true
   },
   "outputs": [],
   "source": [
    "government_unseen_sent = government_sents[1203]                             #set unseen sentence #1203"
   ]
  },
  {
   "cell_type": "code",
   "execution_count": 77,
   "metadata": {
    "collapsed": false
   },
   "outputs": [
    {
     "data": {
      "text/plain": [
       "[('The', 'AT'),\n",
       " ('action', 'NN'),\n",
       " ('of', 'IN'),\n",
       " ('the', 'AT'),\n",
       " ('Commission', 'NN-TL'),\n",
       " ('in', 'IN'),\n",
       " ('allowing', 'VBG'),\n",
       " ('or', 'CC'),\n",
       " ('denying', 'VBG'),\n",
       " ('any', 'DTI'),\n",
       " ('claim', 'NN'),\n",
       " ('under', 'IN'),\n",
       " ('this', 'DT'),\n",
       " ('title', 'NN'),\n",
       " ('shall', 'MD'),\n",
       " ('be', 'BE'),\n",
       " ('final', 'JJ'),\n",
       " ('and', 'CC'),\n",
       " ('conclusive', 'JJ'),\n",
       " ('on', 'IN'),\n",
       " ('all', 'ABN'),\n",
       " ('questions', 'NNS'),\n",
       " ('of', 'IN'),\n",
       " ('law', 'NN'),\n",
       " ('and', 'CC'),\n",
       " ('fact', 'NN'),\n",
       " ('and', 'CC'),\n",
       " ('not', '*'),\n",
       " ('subject', 'JJ'),\n",
       " ('to', 'TO'),\n",
       " ('review', 'VB'),\n",
       " ('by', 'IN'),\n",
       " ('the', 'AT'),\n",
       " ('Secretary', 'NN-TL'),\n",
       " ('of', 'IN-TL'),\n",
       " ('State', 'NN-TL'),\n",
       " ('or', 'CC'),\n",
       " ('any', 'DTI'),\n",
       " ('other', 'AP'),\n",
       " ('official', 'NN'),\n",
       " (',', ','),\n",
       " ('department', 'NN'),\n",
       " (',', ','),\n",
       " ('agency', 'NN'),\n",
       " (',', ','),\n",
       " ('or', 'CC'),\n",
       " ('establishment', 'NN'),\n",
       " ('of', 'IN'),\n",
       " ('the', 'AT'),\n",
       " ('United', 'VBN-TL'),\n",
       " ('States', 'NNS-TL'),\n",
       " ('or', 'CC'),\n",
       " ('by', 'IN'),\n",
       " ('any', 'DTI'),\n",
       " ('court', 'NN'),\n",
       " ('by', 'IN'),\n",
       " ('mandamus', 'NN'),\n",
       " ('or', 'CC'),\n",
       " ('otherwise', 'RB'),\n",
       " ('.', '.')]"
      ]
     },
     "execution_count": 77,
     "metadata": {},
     "output_type": "execute_result"
    }
   ],
   "source": [
    "government_bigram_tagger.tag(government_unseen_sent)                        #tag sentence unseen sent"
   ]
  },
  {
   "cell_type": "code",
   "execution_count": 78,
   "metadata": {
    "collapsed": false
   },
   "outputs": [
    {
     "data": {
      "text/plain": [
       "0.08245761524450049"
      ]
     },
     "execution_count": 78,
     "metadata": {},
     "output_type": "execute_result"
    }
   ],
   "source": [
    "government_bigram_tagger.evaluate(government_test_sents)                       #evaluate bigram tagger"
   ]
  },
  {
   "cell_type": "code",
   "execution_count": 79,
   "metadata": {
    "collapsed": true
   },
   "outputs": [],
   "source": [
    "t0 = nltk.DefaultTagger('NN')                                                  #set default tagger to tag tokens as Noun"
   ]
  },
  {
   "cell_type": "code",
   "execution_count": 80,
   "metadata": {
    "collapsed": true
   },
   "outputs": [],
   "source": [
    "t1 = nltk.UnigramTagger(government_train_sents, backoff=t0)                    #set unigram tagger and put first backoff"
   ]
  },
  {
   "cell_type": "code",
   "execution_count": 81,
   "metadata": {
    "collapsed": true
   },
   "outputs": [],
   "source": [
    "t2 = nltk.BigramTagger(government_train_sents, backoff=t1)                     #set bigram tagger and put second backoff"
   ]
  },
  {
   "cell_type": "code",
   "execution_count": 82,
   "metadata": {
    "collapsed": false
   },
   "outputs": [
    {
     "data": {
      "text/plain": [
       "0.8311615524730279"
      ]
     },
     "execution_count": 82,
     "metadata": {},
     "output_type": "execute_result"
    }
   ],
   "source": [
    "t2.evaluate(government_test_sents)                                             #evaluate the N-Gram tagger"
   ]
  },
  {
   "cell_type": "markdown",
   "metadata": {
    "collapsed": true
   },
   "source": [
    "### Confusion Matrix"
   ]
  },
  {
   "cell_type": "code",
   "execution_count": 83,
   "metadata": {
    "collapsed": true
   },
   "outputs": [],
   "source": [
    "def tag_list(government_tagged_sents):\n",
    "...     return [tag for sent in government_tagged_sents for (word, tag) in sent] #function tag_list"
   ]
  },
  {
   "cell_type": "code",
   "execution_count": 84,
   "metadata": {
    "collapsed": true
   },
   "outputs": [],
   "source": [
    "def apply_tagger(tagger, corpus):\n",
    "...     return [tagger.tag(nltk.tag.untag(sent)) for sent in corpus]           #function apply_tagger"
   ]
  },
  {
   "cell_type": "code",
   "execution_count": 85,
   "metadata": {
    "collapsed": true
   },
   "outputs": [],
   "source": [
    "gold = tag_list(brown.tagged_sents(categories='government'))                   #gold corpus"
   ]
  },
  {
   "cell_type": "code",
   "execution_count": 86,
   "metadata": {
    "collapsed": true
   },
   "outputs": [],
   "source": [
    "test = tag_list(apply_tagger(t2, brown.tagged_sents(categories='government'))) #test the tag_list"
   ]
  },
  {
   "cell_type": "code",
   "execution_count": 87,
   "metadata": {
    "collapsed": true
   },
   "outputs": [],
   "source": [
    "cm = nltk.ConfusionMatrix(gold, test)                                          #generate confusion matrix"
   ]
  },
  {
   "cell_type": "code",
   "execution_count": 88,
   "metadata": {
    "collapsed": false
   },
   "outputs": [
    {
     "name": "stdout",
     "output_type": "stream",
     "text": [
      "      |                                                                     N                                    |\n",
      "      |                                                                     N                                    |\n",
      "      |                           N                                  V      -                                    |\n",
      "      |      N      I      A      N      J                    C      B      T      V      R      C      N      C |\n",
      "      |      N      N      T      S      J      ,      .      C      N      L      B      B      D      P      S |\n",
      "------+----------------------------------------------------------------------------------------------------------+\n",
      "   NN | <13.8%>     .      .   0.0%   0.1%      .      .      .   0.0%   0.0%   0.0%   0.0%   0.0%   0.0%      . |\n",
      "   IN |   0.0% <11.4%>     .      .   0.0%      .      .   0.0%      .      .      .   0.0%      .      .   0.0% |\n",
      "   AT |      .      .  <8.1%>     .      .      .      .      .      .      .      .      .      .      .      . |\n",
      "  NNS |   0.4%      .      .  <6.0%>     .      .      .      .      .      .      .      .      .      .      . |\n",
      "   JJ |   0.4%   0.0%      .      .  <5.5%>     .      .      .      .      .   0.0%   0.0%      .      .      . |\n",
      "    , |      .      .      .      .      .  <4.8%>     .      .      .      .      .      .      .      .      . |\n",
      "    . |   0.0%      .      .      .      .      .  <3.9%>     .      .      .      .      .      .      .      . |\n",
      "   CC |   0.0%      .      .      .      .      .      .  <3.5%>     .      .      .   0.0%      .      .      . |\n",
      "  VBN |   0.1%      .      .      .      .      .      .      .  <2.9%>     .   0.0%      .      .      .      . |\n",
      "NN-TL |   0.2%      .      .      .      .      .      .      .      .  <2.6%>     .      .      .   0.0%      . |\n",
      "   VB |   0.2%      .      .      .   0.0%      .      .      .   0.0%      .  <2.4%>     .      .      .      . |\n",
      "   RB |   0.1%   0.0%      .      .   0.0%      .      .      .      .      .   0.0%  <2.1%>     .      .   0.0% |\n",
      "   CD |   0.1%      .      .      .      .      .      .      .      .      .      .      .  <1.8%>     .      . |\n",
      "   NP |   0.2%      .      .      .   0.0%      .      .      .      .   0.0%      .      .      .  <1.5%>     . |\n",
      "   CS |   0.0%   0.1%      .      .      .      .      .      .      .      .      .   0.0%      .      .  <1.5%>|\n",
      "------+----------------------------------------------------------------------------------------------------------+\n",
      "(row = reference; col = test)\n",
      "\n"
     ]
    }
   ],
   "source": [
    "print(cm.pretty_format(sort_by_count=True, show_percents=True, truncate=15))   #print the confusion matrix"
   ]
  },
  {
   "cell_type": "markdown",
   "metadata": {},
   "source": [
    "## 4. News"
   ]
  },
  {
   "cell_type": "code",
   "execution_count": 89,
   "metadata": {
    "collapsed": true
   },
   "outputs": [],
   "source": [
    "news_tagged_sents = brown.tagged_sents(categories='news')                        #set news tagged sentences\n",
    "news_sents = brown.sents(categories='news')                                      #set news sentences\n",
    "news_unigram_tagger = nltk.UnigramTagger(news_tagged_sents)                      #set tagger"
   ]
  },
  {
   "cell_type": "code",
   "execution_count": 90,
   "metadata": {
    "collapsed": false
   },
   "outputs": [
    {
     "data": {
      "text/plain": [
       "[('Ultimately', 'RB'),\n",
       " ('the', 'AT'),\n",
       " ('development', 'NN'),\n",
       " ('will', 'MD'),\n",
       " ('comprise', 'VB'),\n",
       " ('300', 'CD'),\n",
       " ('units', 'NNS'),\n",
       " (',', ','),\n",
       " ('in', 'IN'),\n",
       " ('two-story', 'JJ'),\n",
       " ('and', 'CC'),\n",
       " ('three-story', 'JJ'),\n",
       " ('structures', 'NNS'),\n",
       " ('.', '.')]"
      ]
     },
     "execution_count": 90,
     "metadata": {},
     "output_type": "execute_result"
    }
   ],
   "source": [
    "news_unigram_tagger.tag(news_sents[2006])                                        #tag sentence #2006"
   ]
  },
  {
   "cell_type": "code",
   "execution_count": 91,
   "metadata": {
    "collapsed": false
   },
   "outputs": [
    {
     "data": {
      "text/plain": [
       "0.9349006503968017"
      ]
     },
     "execution_count": 91,
     "metadata": {},
     "output_type": "execute_result"
    }
   ],
   "source": [
    "news_unigram_tagger.evaluate(news_tagged_sents)                                 #evaluate the tagged sents"
   ]
  },
  {
   "cell_type": "code",
   "execution_count": 92,
   "metadata": {
    "collapsed": true
   },
   "outputs": [],
   "source": [
    "size = int(len(news_tagged_sents) * 0.8)                                        #set the data size = 80%"
   ]
  },
  {
   "cell_type": "code",
   "execution_count": 93,
   "metadata": {
    "collapsed": false
   },
   "outputs": [
    {
     "data": {
      "text/plain": [
       "3698"
      ]
     },
     "execution_count": 93,
     "metadata": {},
     "output_type": "execute_result"
    }
   ],
   "source": [
    "size                                                                            # #of data points"
   ]
  },
  {
   "cell_type": "code",
   "execution_count": 94,
   "metadata": {
    "collapsed": true
   },
   "outputs": [],
   "source": [
    "news_train_sents = news_tagged_sents[:size]                                     #divide the dataset into training set\n",
    "news_test_sents = news_tagged_sents[size:]                                      #divide the dataset into test set\n",
    "news_unigram_tagger = nltk.UnigramTagger(news_train_sents)                      #set unigram tagger"
   ]
  },
  {
   "cell_type": "code",
   "execution_count": 95,
   "metadata": {
    "collapsed": false
   },
   "outputs": [
    {
     "data": {
      "text/plain": [
       "0.8018690688376126"
      ]
     },
     "execution_count": 95,
     "metadata": {},
     "output_type": "execute_result"
    }
   ],
   "source": [
    "news_unigram_tagger.evaluate(news_test_sents)                                   #evaluate unigram performance"
   ]
  },
  {
   "cell_type": "code",
   "execution_count": 96,
   "metadata": {
    "collapsed": true
   },
   "outputs": [],
   "source": [
    " news_bigram_tagger = nltk.BigramTagger(news_train_sents)                       #set bigram tagger"
   ]
  },
  {
   "cell_type": "code",
   "execution_count": 97,
   "metadata": {
    "collapsed": false
   },
   "outputs": [
    {
     "data": {
      "text/plain": [
       "[('Ultimately', 'RB'),\n",
       " ('the', 'AT'),\n",
       " ('development', 'NN'),\n",
       " ('will', 'MD'),\n",
       " ('comprise', 'VB'),\n",
       " ('300', 'CD'),\n",
       " ('units', 'NNS'),\n",
       " (',', ','),\n",
       " ('in', 'IN'),\n",
       " ('two-story', 'JJ'),\n",
       " ('and', 'CC'),\n",
       " ('three-story', 'JJ'),\n",
       " ('structures', 'NNS'),\n",
       " ('.', '.')]"
      ]
     },
     "execution_count": 97,
     "metadata": {},
     "output_type": "execute_result"
    }
   ],
   "source": [
    "news_bigram_tagger.tag(news_sents[2006])                                        #tag sentence #2006"
   ]
  },
  {
   "cell_type": "code",
   "execution_count": 98,
   "metadata": {
    "collapsed": true
   },
   "outputs": [],
   "source": [
    "news_unseen_sent = news_sents[1203]                                             #set unseen sentence #1203"
   ]
  },
  {
   "cell_type": "code",
   "execution_count": 99,
   "metadata": {
    "collapsed": false
   },
   "outputs": [
    {
     "data": {
      "text/plain": [
       "[('``', '``'),\n",
       " ('Buster', 'NP'),\n",
       " ('would', 'MD'),\n",
       " ('solve', 'VB'),\n",
       " ('that', 'CS'),\n",
       " ('quarterback', None),\n",
       " ('problem', None),\n",
       " ('just', None),\n",
       " ('as', None),\n",
       " ('we', None),\n",
       " ('head', None),\n",
       " ('that', None),\n",
       " ('way', None),\n",
       " (\"''\", None),\n",
       " ('.', None)]"
      ]
     },
     "execution_count": 99,
     "metadata": {},
     "output_type": "execute_result"
    }
   ],
   "source": [
    "news_bigram_tagger.tag(news_unseen_sent)                                        #tag sentence unseen sent"
   ]
  },
  {
   "cell_type": "code",
   "execution_count": 100,
   "metadata": {
    "collapsed": false
   },
   "outputs": [
    {
     "data": {
      "text/plain": [
       "0.09147839491304977"
      ]
     },
     "execution_count": 100,
     "metadata": {},
     "output_type": "execute_result"
    }
   ],
   "source": [
    "news_bigram_tagger.evaluate(news_test_sents)                                    #evaluate bigram tagger"
   ]
  },
  {
   "cell_type": "code",
   "execution_count": 101,
   "metadata": {
    "collapsed": true
   },
   "outputs": [],
   "source": [
    "t0 = nltk.DefaultTagger('NN')                                                   #set default tagger to tag tokens as Noun\n",
    "t1 = nltk.UnigramTagger(news_train_sents, backoff=t0)                           #set unigram tagger and put first backoff\n",
    "t2 = nltk.BigramTagger(news_train_sents, backoff=t1)                            #set bigram tagger and put second backoff"
   ]
  },
  {
   "cell_type": "code",
   "execution_count": 102,
   "metadata": {
    "collapsed": false
   },
   "outputs": [
    {
     "data": {
      "text/plain": [
       "0.8354930391637362"
      ]
     },
     "execution_count": 102,
     "metadata": {},
     "output_type": "execute_result"
    }
   ],
   "source": [
    "t2.evaluate(news_test_sents)                                                    #evaluate the N-Gram tagger"
   ]
  },
  {
   "cell_type": "markdown",
   "metadata": {},
   "source": [
    "### Confusion Matrix"
   ]
  },
  {
   "cell_type": "code",
   "execution_count": 103,
   "metadata": {
    "collapsed": true
   },
   "outputs": [],
   "source": [
    "def tag_list(news_tagged_sents):\n",
    "...     return [tag for sent in news_tagged_sents for (word, tag) in sent]      #function tag_list"
   ]
  },
  {
   "cell_type": "code",
   "execution_count": 104,
   "metadata": {
    "collapsed": true
   },
   "outputs": [],
   "source": [
    "def apply_tagger(tagger, corpus):\n",
    "...     return [tagger.tag(nltk.tag.untag(sent)) for sent in corpus]            #function apply_tagger"
   ]
  },
  {
   "cell_type": "code",
   "execution_count": 105,
   "metadata": {
    "collapsed": true
   },
   "outputs": [],
   "source": [
    "gold = tag_list(brown.tagged_sents(categories='news'))                          #gold corpus\n",
    "test = tag_list(apply_tagger(t2, brown.tagged_sents(categories='news')))        #test the tag_list\n",
    "cm = nltk.ConfusionMatrix(gold, test)                                           #generate confusion matrix"
   ]
  },
  {
   "cell_type": "code",
   "execution_count": 106,
   "metadata": {
    "collapsed": false
   },
   "outputs": [
    {
     "name": "stdout",
     "output_type": "stream",
     "text": [
      "      |                                                                            N                             |\n",
      "      |                                                                            N                             |\n",
      "      |                                         N                           V      -             V               |\n",
      "      |      N      I      A      N             N             J      C      B      T      V      B      R      C |\n",
      "      |      N      N      T      P      ,      S      .      J      C      D      L      B      N      B      D |\n",
      "------+----------------------------------------------------------------------------------------------------------+\n",
      "   NN | <12.8%>     .   0.0%   0.0%      .   0.0%      .   0.1%      .      .   0.0%   0.1%      .   0.0%      . |\n",
      "   IN |   0.0%  <9.6%>     .      .      .      .      .   0.0%   0.0%      .      .      .      .   0.0%      . |\n",
      "   AT |      .      .  <8.8%>     .      .      .      .      .      .      .      .      .      .      .      . |\n",
      "   NP |   0.4%      .      .  <6.3%>     .      .      .   0.0%      .      .   0.0%      .      .      .      . |\n",
      "    , |      .      .      .      .  <5.1%>     .      .      .      .      .      .      .      .      .      . |\n",
      "  NNS |   0.4%      .      .      .      .  <4.6%>     .      .      .      .      .      .      .      .      . |\n",
      "    . |      .      .      .      .      .      .  <4.4%>     .      .      .      .      .      .      .      . |\n",
      "   JJ |   0.4%      .      .   0.0%      .      .      .  <4.0%>     .   0.0%      .   0.0%      .   0.0%      . |\n",
      "   CC |   0.0%      .      .      .      .      .      .      .  <2.6%>     .      .      .      .      .      . |\n",
      "  VBD |   0.1%      .      .      .      .      .      .   0.0%      .  <2.3%>     .   0.0%   0.1%      .      . |\n",
      "NN-TL |   0.1%      .      .   0.0%      .      .      .      .      .      .  <2.4%>     .      .      .      . |\n",
      "   VB |   0.2%      .      .      .      .      .      .   0.0%      .   0.0%      .  <2.2%>  0.0%      .      . |\n",
      "  VBN |   0.1%      .      .      .      .      .      .   0.0%      .   0.2%      .   0.0%  <2.0%>     .      . |\n",
      "   RB |   0.1%   0.0%   0.0%      .      .      .      .   0.1%      .      .      .      .      .  <1.9%>     . |\n",
      "   CD |   0.1%      .      .      .      .      .      .      .      .      .      .      .      .      .  <1.9%>|\n",
      "------+----------------------------------------------------------------------------------------------------------+\n",
      "(row = reference; col = test)\n",
      "\n"
     ]
    }
   ],
   "source": [
    "print(cm.pretty_format(sort_by_count=True, show_percents=True, truncate=15))    #print the confusion matrix"
   ]
  },
  {
   "cell_type": "markdown",
   "metadata": {},
   "source": [
    "# End\n",
    "## References:\n",
    "### Bird,  S.,  Klein,  E.  and  Loper,  E.  (2009).   Natural  language  processing  with  python,O’Reilly Media, Inc."
   ]
  },
  {
   "cell_type": "code",
   "execution_count": null,
   "metadata": {
    "collapsed": true
   },
   "outputs": [],
   "source": []
  }
 ],
 "metadata": {
  "kernelspec": {
   "display_name": "Python 3",
   "language": "python",
   "name": "python3"
  },
  "language_info": {
   "codemirror_mode": {
    "name": "ipython",
    "version": 3
   },
   "file_extension": ".py",
   "mimetype": "text/x-python",
   "name": "python",
   "nbconvert_exporter": "python",
   "pygments_lexer": "ipython3",
   "version": "3.5.1"
  }
 },
 "nbformat": 4,
 "nbformat_minor": 0
}
